{
 "cells": [
  {
   "cell_type": "markdown",
   "id": "07b69552",
   "metadata": {},
   "source": [
    "# Set Up"
   ]
  },
  {
   "cell_type": "code",
   "execution_count": 71,
   "id": "e6710f8d",
   "metadata": {},
   "outputs": [],
   "source": [
    "import json\n",
    "import numpy as np\n",
    "import tensorflow as tf\n",
    "import tensorflow_recommenders as tfrs\n",
    "import pandas as pd\n",
    "from flask import Flask, request, jsonify\n",
    "import requests"
   ]
  },
  {
   "cell_type": "markdown",
   "id": "a8f916f6",
   "metadata": {},
   "source": [
    "# Get Data"
   ]
  },
  {
   "cell_type": "markdown",
   "id": "f0166510",
   "metadata": {},
   "source": [
    "**Query what data user needs**"
   ]
  },
  {
   "cell_type": "code",
   "execution_count": 72,
   "id": "921ca4c8",
   "metadata": {},
   "outputs": [],
   "source": [
    "user_needs = {\n",
    "  \"id_user\": \"1\",\n",
    "  \"genre\": \"Pop\"\n",
    "}"
   ]
  },
  {
   "cell_type": "code",
   "execution_count": 73,
   "id": "1e1214b1",
   "metadata": {},
   "outputs": [],
   "source": [
    "def get_events(genre):\n",
    "    url = f'https://elise-project.mdwisu.shop/events/getEventForMl?genre={genre}'\n",
    "    response = requests.get(url)\n",
    "    data = response.json()\n",
    "    df = pd.DataFrame(data['data'])\n",
    "    return df"
   ]
  },
  {
   "cell_type": "code",
   "execution_count": 74,
   "id": "6b667f14",
   "metadata": {
    "scrolled": true
   },
   "outputs": [],
   "source": [
    "df = get_events(user_needs['genre'])"
   ]
  },
  {
   "cell_type": "code",
   "execution_count": 75,
   "id": "cfbb4634",
   "metadata": {
    "scrolled": true
   },
   "outputs": [
    {
     "data": {
      "text/html": [
       "<div>\n",
       "<style scoped>\n",
       "    .dataframe tbody tr th:only-of-type {\n",
       "        vertical-align: middle;\n",
       "    }\n",
       "\n",
       "    .dataframe tbody tr th {\n",
       "        vertical-align: top;\n",
       "    }\n",
       "\n",
       "    .dataframe thead th {\n",
       "        text-align: right;\n",
       "    }\n",
       "</style>\n",
       "<table border=\"1\" class=\"dataframe\">\n",
       "  <thead>\n",
       "    <tr style=\"text-align: right;\">\n",
       "      <th></th>\n",
       "      <th>id_user</th>\n",
       "      <th>id_event</th>\n",
       "      <th>nama_event</th>\n",
       "      <th>harga_tiket</th>\n",
       "      <th>durasi</th>\n",
       "      <th>genre</th>\n",
       "      <th>nama_musisi</th>\n",
       "      <th>id_event_organizer</th>\n",
       "    </tr>\n",
       "  </thead>\n",
       "  <tbody>\n",
       "    <tr>\n",
       "      <th>0</th>\n",
       "      <td>4</td>\n",
       "      <td>6</td>\n",
       "      <td>Popex Musicals</td>\n",
       "      <td>500000</td>\n",
       "      <td>6</td>\n",
       "      <td>Pop</td>\n",
       "      <td>Bunga Citra Lestari</td>\n",
       "      <td>4</td>\n",
       "    </tr>\n",
       "    <tr>\n",
       "      <th>1</th>\n",
       "      <td>4</td>\n",
       "      <td>25</td>\n",
       "      <td>Cello Celebration</td>\n",
       "      <td>470000</td>\n",
       "      <td>8</td>\n",
       "      <td>Pop</td>\n",
       "      <td>Andra and The Backbone</td>\n",
       "      <td>4</td>\n",
       "    </tr>\n",
       "    <tr>\n",
       "      <th>2</th>\n",
       "      <td>4</td>\n",
       "      <td>26</td>\n",
       "      <td>SuperSonics</td>\n",
       "      <td>300000</td>\n",
       "      <td>8</td>\n",
       "      <td>Pop</td>\n",
       "      <td>Vierra</td>\n",
       "      <td>4</td>\n",
       "    </tr>\n",
       "  </tbody>\n",
       "</table>\n",
       "</div>"
      ],
      "text/plain": [
       "   id_user  id_event         nama_event  harga_tiket  durasi genre  \\\n",
       "0        4         6     Popex Musicals       500000       6   Pop   \n",
       "1        4        25  Cello Celebration       470000       8   Pop   \n",
       "2        4        26        SuperSonics       300000       8   Pop   \n",
       "\n",
       "              nama_musisi  id_event_organizer  \n",
       "0     Bunga Citra Lestari                   4  \n",
       "1  Andra and The Backbone                   4  \n",
       "2                  Vierra                   4  "
      ]
     },
     "execution_count": 75,
     "metadata": {},
     "output_type": "execute_result"
    }
   ],
   "source": [
    "df"
   ]
  },
  {
   "cell_type": "code",
   "execution_count": 76,
   "id": "f33fa7d1",
   "metadata": {},
   "outputs": [],
   "source": [
    "music_genres = {\n",
    "    'pop': 4,\n",
    "    'jazz': 3,\n",
    "    'dangdut': 0,\n",
    "    'electronic': 1,\n",
    "    'r&b': 5,\n",
    "    'rock': 6,\n",
    "    'indie': 2\n",
    "}"
   ]
  },
  {
   "cell_type": "code",
   "execution_count": 77,
   "id": "00a51847",
   "metadata": {},
   "outputs": [
    {
     "data": {
      "text/plain": [
       "4"
      ]
     },
     "execution_count": 77,
     "metadata": {},
     "output_type": "execute_result"
    }
   ],
   "source": [
    "genre = music_genres[user_needs['genre'].lower()]\n",
    "genre"
   ]
  },
  {
   "cell_type": "code",
   "execution_count": 78,
   "id": "ab7982f6",
   "metadata": {},
   "outputs": [],
   "source": [
    "df['genre'] = genre"
   ]
  },
  {
   "cell_type": "code",
   "execution_count": 79,
   "id": "270c5974",
   "metadata": {},
   "outputs": [],
   "source": [
    "df['id_user'] = user_needs['id_user']"
   ]
  },
  {
   "cell_type": "code",
   "execution_count": 80,
   "id": "b8794e4e",
   "metadata": {
    "scrolled": true
   },
   "outputs": [
    {
     "data": {
      "text/html": [
       "<div>\n",
       "<style scoped>\n",
       "    .dataframe tbody tr th:only-of-type {\n",
       "        vertical-align: middle;\n",
       "    }\n",
       "\n",
       "    .dataframe tbody tr th {\n",
       "        vertical-align: top;\n",
       "    }\n",
       "\n",
       "    .dataframe thead th {\n",
       "        text-align: right;\n",
       "    }\n",
       "</style>\n",
       "<table border=\"1\" class=\"dataframe\">\n",
       "  <thead>\n",
       "    <tr style=\"text-align: right;\">\n",
       "      <th></th>\n",
       "      <th>id_user</th>\n",
       "      <th>id_event</th>\n",
       "      <th>nama_event</th>\n",
       "      <th>harga_tiket</th>\n",
       "      <th>durasi</th>\n",
       "      <th>genre</th>\n",
       "      <th>nama_musisi</th>\n",
       "      <th>id_event_organizer</th>\n",
       "    </tr>\n",
       "  </thead>\n",
       "  <tbody>\n",
       "    <tr>\n",
       "      <th>0</th>\n",
       "      <td>1</td>\n",
       "      <td>6</td>\n",
       "      <td>Popex Musicals</td>\n",
       "      <td>500000</td>\n",
       "      <td>6</td>\n",
       "      <td>4</td>\n",
       "      <td>Bunga Citra Lestari</td>\n",
       "      <td>4</td>\n",
       "    </tr>\n",
       "    <tr>\n",
       "      <th>1</th>\n",
       "      <td>1</td>\n",
       "      <td>25</td>\n",
       "      <td>Cello Celebration</td>\n",
       "      <td>470000</td>\n",
       "      <td>8</td>\n",
       "      <td>4</td>\n",
       "      <td>Andra and The Backbone</td>\n",
       "      <td>4</td>\n",
       "    </tr>\n",
       "    <tr>\n",
       "      <th>2</th>\n",
       "      <td>1</td>\n",
       "      <td>26</td>\n",
       "      <td>SuperSonics</td>\n",
       "      <td>300000</td>\n",
       "      <td>8</td>\n",
       "      <td>4</td>\n",
       "      <td>Vierra</td>\n",
       "      <td>4</td>\n",
       "    </tr>\n",
       "  </tbody>\n",
       "</table>\n",
       "</div>"
      ],
      "text/plain": [
       "  id_user  id_event         nama_event  harga_tiket  durasi  genre  \\\n",
       "0       1         6     Popex Musicals       500000       6      4   \n",
       "1       1        25  Cello Celebration       470000       8      4   \n",
       "2       1        26        SuperSonics       300000       8      4   \n",
       "\n",
       "              nama_musisi  id_event_organizer  \n",
       "0     Bunga Citra Lestari                   4  \n",
       "1  Andra and The Backbone                   4  \n",
       "2                  Vierra                   4  "
      ]
     },
     "execution_count": 80,
     "metadata": {},
     "output_type": "execute_result"
    }
   ],
   "source": [
    "df"
   ]
  },
  {
   "cell_type": "code",
   "execution_count": 81,
   "id": "865e445c",
   "metadata": {},
   "outputs": [
    {
     "data": {
      "text/plain": [
       "id_user               object\n",
       "id_event               int64\n",
       "nama_event            object\n",
       "harga_tiket            int64\n",
       "durasi                 int64\n",
       "genre                  int64\n",
       "nama_musisi           object\n",
       "id_event_organizer     int64\n",
       "dtype: object"
      ]
     },
     "execution_count": 81,
     "metadata": {},
     "output_type": "execute_result"
    }
   ],
   "source": [
    "df.dtypes"
   ]
  },
  {
   "cell_type": "markdown",
   "id": "0bc13d6f",
   "metadata": {},
   "source": [
    "# Load the model"
   ]
  },
  {
   "cell_type": "code",
   "execution_count": 82,
   "id": "4b770a35",
   "metadata": {},
   "outputs": [],
   "source": [
    "model = tf.keras.models.load_model('./content_model')"
   ]
  },
  {
   "cell_type": "markdown",
   "id": "091624e9",
   "metadata": {},
   "source": [
    "# Convert Df to Tensorflow Dataset"
   ]
  },
  {
   "cell_type": "code",
   "execution_count": 83,
   "id": "04e15fc6",
   "metadata": {},
   "outputs": [],
   "source": [
    "ratings = tf.data.Dataset.from_tensor_slices(\n",
    "    dict(df[['id_user', 'id_event', 'nama_event', 'harga_tiket', 'durasi', 'genre', 'id_event_organizer']]))\n",
    "    \n",
    "ratings = ratings.map(lambda x: {\n",
    "    'durasi': float(x['durasi']),\n",
    "    'genre': int(x['genre']),\n",
    "    'harga_tiket': float(x['harga_tiket']),\n",
    "    'id_event': str(x['id_event']),\n",
    "    'id_event_organizer': str(x['id_event_organizer']),\n",
    "    'id_user': str(x['id_user']),\n",
    "    'nama_event': x['nama_event'],\n",
    "})\n",
    "\n",
    "cached_test = ratings.batch(4096).cache()"
   ]
  },
  {
   "cell_type": "markdown",
   "id": "83dc8214",
   "metadata": {},
   "source": [
    "# Prediction"
   ]
  },
  {
   "cell_type": "code",
   "execution_count": 84,
   "id": "a4c7db6e",
   "metadata": {
    "scrolled": true
   },
   "outputs": [
    {
     "name": "stdout",
     "output_type": "stream",
     "text": [
      "1/1 [==============================] - 1s 720ms/step\n"
     ]
    }
   ],
   "source": [
    "prediction = model.predict(cached_test)"
   ]
  },
  {
   "cell_type": "code",
   "execution_count": 85,
   "id": "26735dc1",
   "metadata": {
    "scrolled": true
   },
   "outputs": [
    {
     "data": {
      "text/plain": [
       "array([[3.0109935],\n",
       "       [2.5304615],\n",
       "       [3.2819686]], dtype=float32)"
      ]
     },
     "execution_count": 85,
     "metadata": {},
     "output_type": "execute_result"
    }
   ],
   "source": [
    "prediction"
   ]
  },
  {
   "cell_type": "code",
   "execution_count": 86,
   "id": "537f6588",
   "metadata": {},
   "outputs": [],
   "source": [
    "df['rating_prediction'] = pd.Series(prediction.flatten())"
   ]
  },
  {
   "cell_type": "code",
   "execution_count": 87,
   "id": "6f56574e",
   "metadata": {
    "scrolled": false
   },
   "outputs": [
    {
     "data": {
      "text/html": [
       "<div>\n",
       "<style scoped>\n",
       "    .dataframe tbody tr th:only-of-type {\n",
       "        vertical-align: middle;\n",
       "    }\n",
       "\n",
       "    .dataframe tbody tr th {\n",
       "        vertical-align: top;\n",
       "    }\n",
       "\n",
       "    .dataframe thead th {\n",
       "        text-align: right;\n",
       "    }\n",
       "</style>\n",
       "<table border=\"1\" class=\"dataframe\">\n",
       "  <thead>\n",
       "    <tr style=\"text-align: right;\">\n",
       "      <th></th>\n",
       "      <th>id_user</th>\n",
       "      <th>id_event</th>\n",
       "      <th>nama_event</th>\n",
       "      <th>harga_tiket</th>\n",
       "      <th>durasi</th>\n",
       "      <th>genre</th>\n",
       "      <th>nama_musisi</th>\n",
       "      <th>id_event_organizer</th>\n",
       "      <th>rating_prediction</th>\n",
       "    </tr>\n",
       "  </thead>\n",
       "  <tbody>\n",
       "    <tr>\n",
       "      <th>0</th>\n",
       "      <td>1</td>\n",
       "      <td>6</td>\n",
       "      <td>Popex Musicals</td>\n",
       "      <td>500000</td>\n",
       "      <td>6</td>\n",
       "      <td>4</td>\n",
       "      <td>Bunga Citra Lestari</td>\n",
       "      <td>4</td>\n",
       "      <td>3.010993</td>\n",
       "    </tr>\n",
       "    <tr>\n",
       "      <th>1</th>\n",
       "      <td>1</td>\n",
       "      <td>25</td>\n",
       "      <td>Cello Celebration</td>\n",
       "      <td>470000</td>\n",
       "      <td>8</td>\n",
       "      <td>4</td>\n",
       "      <td>Andra and The Backbone</td>\n",
       "      <td>4</td>\n",
       "      <td>2.530462</td>\n",
       "    </tr>\n",
       "    <tr>\n",
       "      <th>2</th>\n",
       "      <td>1</td>\n",
       "      <td>26</td>\n",
       "      <td>SuperSonics</td>\n",
       "      <td>300000</td>\n",
       "      <td>8</td>\n",
       "      <td>4</td>\n",
       "      <td>Vierra</td>\n",
       "      <td>4</td>\n",
       "      <td>3.281969</td>\n",
       "    </tr>\n",
       "  </tbody>\n",
       "</table>\n",
       "</div>"
      ],
      "text/plain": [
       "  id_user  id_event         nama_event  harga_tiket  durasi  genre  \\\n",
       "0       1         6     Popex Musicals       500000       6      4   \n",
       "1       1        25  Cello Celebration       470000       8      4   \n",
       "2       1        26        SuperSonics       300000       8      4   \n",
       "\n",
       "              nama_musisi  id_event_organizer  rating_prediction  \n",
       "0     Bunga Citra Lestari                   4           3.010993  \n",
       "1  Andra and The Backbone                   4           2.530462  \n",
       "2                  Vierra                   4           3.281969  "
      ]
     },
     "execution_count": 87,
     "metadata": {},
     "output_type": "execute_result"
    }
   ],
   "source": [
    "df"
   ]
  },
  {
   "cell_type": "markdown",
   "id": "2bf87cad",
   "metadata": {},
   "source": [
    "# Sort Descending by rating _prediction"
   ]
  },
  {
   "cell_type": "code",
   "execution_count": 91,
   "id": "26cb5a0e",
   "metadata": {},
   "outputs": [],
   "source": [
    "df.sort_values(by='rating_prediction', ascending=False, inplace=True)"
   ]
  },
  {
   "cell_type": "code",
   "execution_count": 92,
   "id": "462da41a",
   "metadata": {},
   "outputs": [
    {
     "data": {
      "text/html": [
       "<div>\n",
       "<style scoped>\n",
       "    .dataframe tbody tr th:only-of-type {\n",
       "        vertical-align: middle;\n",
       "    }\n",
       "\n",
       "    .dataframe tbody tr th {\n",
       "        vertical-align: top;\n",
       "    }\n",
       "\n",
       "    .dataframe thead th {\n",
       "        text-align: right;\n",
       "    }\n",
       "</style>\n",
       "<table border=\"1\" class=\"dataframe\">\n",
       "  <thead>\n",
       "    <tr style=\"text-align: right;\">\n",
       "      <th></th>\n",
       "      <th>id_user</th>\n",
       "      <th>id_event</th>\n",
       "      <th>nama_event</th>\n",
       "      <th>harga_tiket</th>\n",
       "      <th>durasi</th>\n",
       "      <th>genre</th>\n",
       "      <th>nama_musisi</th>\n",
       "      <th>id_event_organizer</th>\n",
       "      <th>rating_prediction</th>\n",
       "    </tr>\n",
       "  </thead>\n",
       "  <tbody>\n",
       "    <tr>\n",
       "      <th>2</th>\n",
       "      <td>1</td>\n",
       "      <td>26</td>\n",
       "      <td>SuperSonics</td>\n",
       "      <td>300000</td>\n",
       "      <td>8</td>\n",
       "      <td>4</td>\n",
       "      <td>Vierra</td>\n",
       "      <td>4</td>\n",
       "      <td>3.281969</td>\n",
       "    </tr>\n",
       "    <tr>\n",
       "      <th>0</th>\n",
       "      <td>1</td>\n",
       "      <td>6</td>\n",
       "      <td>Popex Musicals</td>\n",
       "      <td>500000</td>\n",
       "      <td>6</td>\n",
       "      <td>4</td>\n",
       "      <td>Bunga Citra Lestari</td>\n",
       "      <td>4</td>\n",
       "      <td>3.010993</td>\n",
       "    </tr>\n",
       "    <tr>\n",
       "      <th>1</th>\n",
       "      <td>1</td>\n",
       "      <td>25</td>\n",
       "      <td>Cello Celebration</td>\n",
       "      <td>470000</td>\n",
       "      <td>8</td>\n",
       "      <td>4</td>\n",
       "      <td>Andra and The Backbone</td>\n",
       "      <td>4</td>\n",
       "      <td>2.530462</td>\n",
       "    </tr>\n",
       "  </tbody>\n",
       "</table>\n",
       "</div>"
      ],
      "text/plain": [
       "  id_user  id_event         nama_event  harga_tiket  durasi  genre  \\\n",
       "2       1        26        SuperSonics       300000       8      4   \n",
       "0       1         6     Popex Musicals       500000       6      4   \n",
       "1       1        25  Cello Celebration       470000       8      4   \n",
       "\n",
       "              nama_musisi  id_event_organizer  rating_prediction  \n",
       "2                  Vierra                   4           3.281969  \n",
       "0     Bunga Citra Lestari                   4           3.010993  \n",
       "1  Andra and The Backbone                   4           2.530462  "
      ]
     },
     "execution_count": 92,
     "metadata": {},
     "output_type": "execute_result"
    }
   ],
   "source": [
    "df"
   ]
  },
  {
   "cell_type": "markdown",
   "id": "070e2790",
   "metadata": {},
   "source": [
    "# Df to JSON"
   ]
  },
  {
   "cell_type": "code",
   "execution_count": 93,
   "id": "e69216f2",
   "metadata": {},
   "outputs": [],
   "source": [
    "json_data= df.to_json(orient='records')"
   ]
  },
  {
   "cell_type": "code",
   "execution_count": 94,
   "id": "59cdcc04",
   "metadata": {
    "scrolled": true
   },
   "outputs": [
    {
     "data": {
      "text/plain": [
       "'[{\"id_user\":\"1\",\"id_event\":26,\"nama_event\":\"SuperSonics\",\"harga_tiket\":300000,\"durasi\":8,\"genre\":4,\"nama_musisi\":\"Vierra\",\"id_event_organizer\":4,\"rating_prediction\":3.2819685936},{\"id_user\":\"1\",\"id_event\":6,\"nama_event\":\"Popex Musicals\",\"harga_tiket\":500000,\"durasi\":6,\"genre\":4,\"nama_musisi\":\"Bunga Citra Lestari\",\"id_event_organizer\":4,\"rating_prediction\":3.0109934807},{\"id_user\":\"1\",\"id_event\":25,\"nama_event\":\"Cello Celebration\",\"harga_tiket\":470000,\"durasi\":8,\"genre\":4,\"nama_musisi\":\"Andra and The Backbone\",\"id_event_organizer\":4,\"rating_prediction\":2.5304615498}]'"
      ]
     },
     "execution_count": 94,
     "metadata": {},
     "output_type": "execute_result"
    }
   ],
   "source": [
    "json_data"
   ]
  }
 ],
 "metadata": {
  "kernelspec": {
   "display_name": "metopen",
   "language": "python",
   "name": "metopen"
  },
  "language_info": {
   "codemirror_mode": {
    "name": "ipython",
    "version": 3
   },
   "file_extension": ".py",
   "mimetype": "text/x-python",
   "name": "python",
   "nbconvert_exporter": "python",
   "pygments_lexer": "ipython3",
   "version": "3.10.6"
  }
 },
 "nbformat": 4,
 "nbformat_minor": 5
}
